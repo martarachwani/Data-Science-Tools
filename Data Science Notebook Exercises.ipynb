{
 "cells": [
  {
   "cell_type": "markdown",
   "metadata": {},
   "source": [
    "<center>\n",
    "    <img src=\"https://cf-courses-data.s3.us.cloud-object-storage.appdomain.cloud/IBMDeveloperSkillsNetwork-DS0105EN-SkillsNetwork/labs/Module2/images/SN_web_lightmode.png\" width=\"300\" alt=\"cognitiveclass.ai logo\">\n",
    "</center>\n"
   ]
  },
  {
   "cell_type": "markdown",
   "metadata": {},
   "source": [
    "#### Add your code below following the instructions given in the course\n"
   ]
  },
  {
   "cell_type": "code",
   "execution_count": 1,
   "metadata": {
    "tags": []
   },
   "outputs": [
    {
     "data": {
      "text/plain": [
       "(20, 9)"
      ]
     },
     "execution_count": 1,
     "metadata": {},
     "output_type": "execute_result"
    }
   ],
   "source": [
    "# Exercise 3 - Introduction\n",
    "\n",
    "## Introduction\n",
    "#This notebook contains various exercises to help understand and practice key concepts in Data Science. \n",
    "#It covers topics such as programming languages, libraries, tools, and basic arithmetic operations.\n",
    "\n",
    "# Exercise 4 - Data Science Languages\n",
    "\n",
    "## Data Science Languages\n",
    "#1. Python\n",
    "#2. R\n",
    "#3. SQL\n",
    "#4. Julia\n",
    "#5. Scala\n",
    "\n",
    "# Exercise 5 - Data Science Libraries\n",
    "\n",
    "## Data Science Libraries\n",
    "#1. NumPy\n",
    "#2. Pandas\n",
    "#3. Matplotlib\n",
    "#4. Scikit-learn\n",
    "#5. TensorFlow\n",
    "#6. Keras\n",
    "\n",
    "# Exercise 6 - Table of Data Science Tools\n",
    "\n",
    "## Data Science Tools\n",
    "\n",
    "#Jupyter -> Interactive computing environment\n",
    "#Rstudio -> Integrated development enviroment\n",
    "#Apache spark -> cluster-computing framework\n",
    "#Tensorflow -> Machine learning library\n",
    "#Tableau -> Data visualisation tool\n",
    "\n",
    "\n",
    "# Exercise 7 - Arithmetic Expression Examples\n",
    "\n",
    "## Arithmetic Expression Examples\n",
    "#Below are examples of arithmetic expressions, including addition and multiplication.\n",
    "\n",
    "# Exercise 8 - Multiply and Add Numbers\n",
    "a = 5\n",
    "b = 4\n",
    "c = a * b\n",
    "d = a + b\n",
    "c, d"
   ]
  },
  {
   "cell_type": "code",
   "execution_count": 2,
   "metadata": {
    "tags": []
   },
   "outputs": [
    {
     "data": {
      "text/plain": [
       "2.0"
      ]
     },
     "execution_count": 2,
     "metadata": {},
     "output_type": "execute_result"
    }
   ],
   "source": [
    "# Exercise 9 - Convert Minutes to Hours\n",
    "\n",
    "minutes = 120\n",
    "hours = minutes / 60\n",
    "hours\n"
   ]
  },
  {
   "cell_type": "code",
   "execution_count": null,
   "metadata": {},
   "outputs": [],
   "source": [
    "# Exercise 10 - Objectives\n",
    "\n",
    "## Objectives\n",
    "#Understand key data science languages\n",
    "#Learn about popular data science libraries\n",
    "#Get familiar with essential data science tools\n",
    "#Practice basic arithmetic operations in code\n",
    "\n",
    "# Exercise 11 - Author's Name\n",
    "\n",
    "## Author\n",
    "#Marta Rachwani"
   ]
  }
 ],
 "metadata": {
  "kernelspec": {
   "display_name": "Python",
   "language": "python",
   "name": "conda-env-python-py"
  },
  "language_info": {
   "codemirror_mode": {
    "name": "ipython",
    "version": 3
   },
   "file_extension": ".py",
   "mimetype": "text/x-python",
   "name": "python",
   "nbconvert_exporter": "python",
   "pygments_lexer": "ipython3",
   "version": "3.7.12"
  }
 },
 "nbformat": 4,
 "nbformat_minor": 4
}
